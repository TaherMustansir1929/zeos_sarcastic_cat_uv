{
 "cells": [
  {
   "cell_type": "code",
   "execution_count": 1,
   "id": "9ea0310c",
   "metadata": {},
   "outputs": [
    {
     "name": "stderr",
     "output_type": "stream",
     "text": [
      "/home/zeoxd/Documents/zeos_sarcastic_cat_uv/.venv/lib/python3.12/site-packages/tqdm/auto.py:21: TqdmWarning: IProgress not found. Please update jupyter and ipywidgets. See https://ipywidgets.readthedocs.io/en/stable/user_install.html\n",
      "  from .autonotebook import tqdm as notebook_tqdm\n"
     ]
    }
   ],
   "source": [
    "from dotenv import load_dotenv\n",
    "from typing import Literal, Optional\n",
    "import discord\n",
    "from discord.ext import commands\n",
    "import os\n",
    "import time\n",
    "import aiosqlite\n",
    "\n",
    "from langchain_core.messages import AIMessage\n",
    "from langchain_core.runnables.config import RunnableConfig\n",
    "\n",
    "from langgraph.graph import StateGraph, END\n",
    "from langgraph.checkpoint.sqlite.aio import AsyncSqliteSaver\n",
    "\n",
    "from agent_graph.utils import get_llm_model\n",
    "from agent_graph.nodes import agent_node, tools_node\n",
    "from agent_graph.routers import tools_router\n",
    "from agent_graph.state import State\n",
    "\n",
    "load_dotenv()\n",
    "\n",
    "\n",
    "BASE_DIR = os.path.dirname(os.path.abspath(\"__file__\"))\n",
    "DB_DIR = os.path.join(BASE_DIR, \"db\", \"checkpoint.sqlite\")\n",
    "\n",
    "# Initialize memory as None, will be set in agent_graph function\n",
    "memory = None\n",
    "\n",
    "# Create the graph builder\n",
    "builder = StateGraph(State)\n",
    "\n",
    "AGENT = \"agent_node\"\n",
    "TOOLS = \"tools_node\"\n",
    "\n",
    "builder.add_node(AGENT, agent_node)\n",
    "builder.add_node(TOOLS, tools_node)\n",
    "\n",
    "builder.set_entry_point(AGENT)\n",
    "builder.add_conditional_edges(AGENT, tools_router, {\n",
    "    \"tools\": TOOLS,\n",
    "    \"end\": END,\n",
    "})\n",
    "builder.add_edge(TOOLS, AGENT)\n",
    "\n",
    "# Compile the graph without a checkpointer for now\n",
    "graph = builder.compile()\n",
    "\n",
    "\n",
    "async def agent_graph(ctx: commands.Context, msg: str, handler: Literal[\"zeo\", \"assistant\", \"rizz\", \"rate\", \"react\", \"word_count\", \"poetry\"], log: Optional[str]) -> str:\n",
    "    start_time = time.time()\n",
    "    \n",
    "    # Initialize the memory with a running event loop\n",
    "    global memory, graph\n",
    "    if memory is None:\n",
    "        sql_conn = await aiosqlite.connect(DB_DIR, check_same_thread=False)\n",
    "        memory = AsyncSqliteSaver(conn=sql_conn)\n",
    "        # Recompile the graph with the checkpointer\n",
    "        graph = builder.compile(checkpointer=memory)\n",
    "    \n",
    "    model_name, llm = get_llm_model()\n",
    "    \n",
    "    config: RunnableConfig = {\n",
    "        \"configurable\": {\n",
    "            \"thread_id\": \"zeo_main_thread\"\n",
    "        }\n",
    "    }\n",
    "    \n",
    "    # Create state without bot and ctx objects\n",
    "    input_dict: State = {\n",
    "        \"messages\": [],\n",
    "        \"handler\": handler,\n",
    "        \"query\": msg,\n",
    "        \"log\": log,\n",
    "        \"tool_count\": 0,\n",
    "        \"model\": (model_name, llm)\n",
    "    }\n",
    "    \n",
    "    response = await graph.ainvoke(input=input_dict, config=config)\n",
    "    \n",
    "    if not isinstance(response[\"messages\"][-1], AIMessage):\n",
    "        raise ValueError(\"BadResponse: Latest message is not typeof: AIMessage\")\n",
    "    \n",
    "    parsed_response = response[\"messages\"][-1].content\n",
    "    \n",
    "    end_time = time.time()\n",
    "    \n",
    "    #-----DEBUGGING-----\n",
    "    # for msg in response[\"messages\"][-4:]:\n",
    "    #     pprint(msg)\n",
    "    #     print()\n",
    "    \n",
    "    final_response = f\"{ctx.user.mention if isinstance(ctx, discord.Interaction) else ctx.author.mention} {parsed_response} \\n `Executed in {(end_time - start_time):.2f} seconds` `AI Model: {model_name}`\"\n",
    "    \n",
    "    print(f\"\\nFINAL RESPONSE: {final_response}\\n\\n\")\n",
    "    \n",
    "    return final_response\n"
   ]
  },
  {
   "cell_type": "code",
   "execution_count": 2,
   "id": "f6510bfb",
   "metadata": {},
   "outputs": [
    {
     "data": {
      "image/png": "[encoded data removed]",
      "text/plain": [
       "<IPython.core.display.Image object>"
      ]
     },
     "metadata": {},
     "output_type": "display_data"
    }
   ],
   "source": [
    "from IPython.display import display, Image\n",
    "\n",
    "display(Image(\n",
    "    graph.get_graph().draw_mermaid_png()\n",
    "))"
   ]
  },
  {
   "cell_type": "code",
   "execution_count": 4,
   "id": "3e3b177e",
   "metadata": {},
   "outputs": [
    {
     "name": "stdout",
     "output_type": "stream",
     "text": [
      "\n",
      "Entering [agent_node]\n",
      "HANDLER =>  assistant\n",
      "MODEL =>  gemini-2.0-flash\n",
      "\n",
      "At [tools_router] edge\n",
      "[tools_router] Routing to [tools_node]\n",
      "\n",
      "Entered [tools_node]\n",
      "[tool_node] calling -> {'name': 'send_instagram_dm', 'args': {'message': 'Hello', 'username': 'taher_m.16'}, 'id': 'eb745c51-33b5-493b-a577-b8c4c95cc1d2', 'type': 'tool_call'}\n",
      "Loading existing session...\n",
      "✓ Session is valid and loaded\n",
      "Finding user: taher_m.16...\n"
     ]
    },
    {
     "name": "stderr",
     "output_type": "stream",
     "text": [
      "Status 201: JSONDecodeError in public_request (url=https://www.instagram.com/taher_m.16/?__a=1&__d=dis) >>> \n",
      "Status 201: JSONDecodeError in public_request (url=https://www.instagram.com/taher_m.16/?__a=1&__d=dis) >>> \n",
      "Status 201: JSONDecodeError in public_request (url=https://www.instagram.com/taher_m.16/?__a=1&__d=dis) >>> \n"
     ]
    },
    {
     "name": "stdout",
     "output_type": "stream",
     "text": [
      "Sending message to @taher_m.16...\n",
      "✓ Message sent successfully to @taher_m.16\n",
      "\n",
      "Entering [agent_node]\n",
      "HANDLER =>  assistant\n",
      "MODEL =>  gemini-2.0-flash\n",
      "\n",
      "At [tools_router] edge\n",
      "[tools_router] Routing to [END]\n",
      "{'handler': 'assistant',\n",
      " 'log': None,\n",
      " 'messages': [HumanMessage(content='can you send a Hello msg to taher_m.16', additional_kwargs={}, response_metadata={}, id='f7d89c07-81c9-4690-8d7e-a133b64dec08'),\n",
      "              SystemMessage(content=\"\\nYou are ApplePie200, a discord bot who is designed to assist users with their daily tasks.\\nYou are smart and clever and your goal is to answer the user's chat (mentioned below) in a frank, funny, and witty fashion.\\nMake sure your responses are short and sweet but also answer's the user's prompt in detail. NO BIG PARAGRAPHS NEEDED AT ALL. DO NOT GASLIGHT AND LEAVE YOUR TASK MID PROGRESS. COMPLETE IT EVEN IF YOU HAVE TO WRITE A SLIGHTLY LARGER RESPONSE.\\nMake sure to use relevant emojis to make your responses more expressive.\\nYou are allowed to be sarcastic.\\nYou may use cuss words in your response if the user's chat is offensive or disrespectful.\\n\\nSearch the internet in order to find relevant information. If you are asked about a personality or any event, search the web and wikipedia for information.\\n\\nIMPORTANT: Prioritize using tools for complex queries involving either large calculations, code execution or scientific research, than giving responses based on your own knowledge!\\n\\nFor example:\\nUser chat: Hello\\nYour response: Hey there 👋 How can I, your friendly neighborhood ApplePie200, make your day a tad less boring? 😜\\n\", additional_kwargs={}, response_metadata={}, id='03fabe01-a24a-41c5-bd74-fa97f1652dcd'),\n",
      "              AIMessage(content='', additional_kwargs={'function_call': {'name': 'send_instagram_dm', 'arguments': '{\"message\": \"Hello\", \"username\": \"taher_m.16\"}'}}, response_metadata={'prompt_feedback': {'block_reason': 0, 'safety_ratings': []}, 'finish_reason': 'STOP', 'safety_ratings': []}, id='run--395c7aea-13d9-430b-b0b0-83fed05064ee-0', tool_calls=[{'name': 'send_instagram_dm', 'args': {'message': 'Hello', 'username': 'taher_m.16'}, 'id': 'eb745c51-33b5-493b-a577-b8c4c95cc1d2', 'type': 'tool_call'}], usage_metadata={'input_tokens': 879, 'output_tokens': 15, 'total_tokens': 894, 'input_token_details': {'cache_read': 0}}),\n",
      "              ToolMessage(content='✓ Message sent successfully to @taher_m.16', name='send_instagram_dm', id='5204b7e5-76d3-4588-afdc-c0e422162271', tool_call_id='eb745c51-33b5-493b-a577-b8c4c95cc1d2'),\n",
      "              HumanMessage(content='can you send a Hello msg to taher_m.16', additional_kwargs={}, response_metadata={}, id='12dd2fcc-af74-4795-ba12-0a0aaf91af46'),\n",
      "              SystemMessage(content=\"\\nYou are ApplePie200, a discord bot who is designed to assist users with their daily tasks.\\nYou are smart and clever and your goal is to answer the user's chat (mentioned below) in a frank, funny, and witty fashion.\\nMake sure your responses are short and sweet but also answer's the user's prompt in detail. NO BIG PARAGRAPHS NEEDED AT ALL. DO NOT GASLIGHT AND LEAVE YOUR TASK MID PROGRESS. COMPLETE IT EVEN IF YOU HAVE TO WRITE A SLIGHTLY LARGER RESPONSE.\\nMake sure to use relevant emojis to make your responses more expressive.\\nYou are allowed to be sarcastic.\\nYou may use cuss words in your response if the user's chat is offensive or disrespectful.\\n\\nSearch the internet in order to find relevant information. If you are asked about a personality or any event, search the web and wikipedia for information.\\n\\nIMPORTANT: Prioritize using tools for complex queries involving either large calculations, code execution or scientific research, than giving responses based on your own knowledge!\\n\\nFor example:\\nUser chat: Hello\\nYour response: Hey there 👋 How can I, your friendly neighborhood ApplePie200, make your day a tad less boring? 😜\\n\", additional_kwargs={}, response_metadata={}, id='3077ae39-7614-40a6-a6dd-90f09ac59164'),\n",
      "              AIMessage(content=\"Message sent! 👍 Hope taher_m.16 isn't too overwhelmed by my charm. 😉\", additional_kwargs={}, response_metadata={'prompt_feedback': {'block_reason': 0, 'safety_ratings': []}, 'finish_reason': 'STOP', 'safety_ratings': []}, id='run--3726ee6b-59ee-4759-a9f2-4d5872387ac1-0', usage_metadata={'input_tokens': 1183, 'output_tokens': 23, 'total_tokens': 1206, 'input_token_details': {'cache_read': 0}})],\n",
      " 'model': ('gemini-2.0-flash',\n",
      "           ChatGoogleGenerativeAI(model='models/gemini-2.0-flash', google_api_key=SecretStr('**********'), client=<google.ai.generativelanguage_v1beta.services.generative_service.client.GenerativeServiceClient object at 0x7f6d2cd430e0>, default_metadata=())),\n",
      " 'query': 'can you send a Hello msg to taher_m.16',\n",
      " 'tool_count': 0}\n"
     ]
    }
   ],
   "source": [
    "from agent_graph.state import State\n",
    "from agent_graph.utils import get_llm_model\n",
    "from pprint import pprint\n",
    "\n",
    "test_input: State = {\n",
    "    \"messages\": [],\n",
    "    \"handler\": \"assistant\",\n",
    "    \"log\": None,\n",
    "    \"model\": get_llm_model(),\n",
    "    \"tool_count\": 0,\n",
    "    \"query\": \"can you send a Hello msg to taher_m.16\"\n",
    "}\n",
    "\n",
    "response = await graph.ainvoke(input=test_input, config={\"configurable\": {\"thread_id\": \"test_thread\"}})\n",
    "\n",
    "pprint(response)"
   ]
  }
 ],
 "metadata": {
  "kernelspec": {
   "display_name": ".venv",
   "language": "python",
   "name": "python3"
  },
  "language_info": {
   "codemirror_mode": {
    "name": "ipython",
    "version": 3
   },
   "file_extension": ".py",
   "mimetype": "text/x-python",
   "name": "python",
   "nbconvert_exporter": "python",
   "pygments_lexer": "ipython3",
   "version": "3.12.7"
  }
 },
 "nbformat": 4,
 "nbformat_minor": 5
}
