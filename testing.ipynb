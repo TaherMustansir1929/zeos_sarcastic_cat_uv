{
 "cells": [
  {
   "cell_type": "code",
   "execution_count": 1,
   "id": "d13545ff",
   "metadata": {},
   "outputs": [
    {
     "data": {
      "text/html": [
       "<pre style=\"white-space:pre;overflow-x:auto;line-height:normal;font-family:Menlo,'DejaVu Sans Mono',consolas,'Courier New',monospace\"><span style=\"color: #008080; text-decoration-color: #008080\">ℹ️ Starting Google Imagen image generation</span>\n",
       "</pre>\n"
      ],
      "text/plain": [
       "\u001b[36mℹ️ Starting Google Imagen image generation\u001b[0m\n"
      ]
     },
     "metadata": {},
     "output_type": "display_data"
    },
    {
     "data": {
      "text/html": [
       "<pre style=\"white-space:pre;overflow-x:auto;line-height:normal;font-family:Menlo,'DejaVu Sans Mono',consolas,'Courier New',monospace\"><span style=\"color: #000080; text-decoration-color: #000080\">🐛 Input prompt: Bugs Bunny and Donald Duck shaking hands. Photorealistic, highly detailed</span>\n",
       "</pre>\n"
      ],
      "text/plain": [
       "\u001b[34m🐛 Input prompt: Bugs Bunny and Donald Duck shaking hands. Photorealistic, highly detailed\u001b[0m\n"
      ]
     },
     "metadata": {},
     "output_type": "display_data"
    },
    {
     "data": {
      "text/html": [
       "<pre style=\"white-space:pre;overflow-x:auto;line-height:normal;font-family:Menlo,'DejaVu Sans Mono',consolas,'Courier New',monospace\"><span style=\"color: #000080; text-decoration-color: #000080\">🐛 Initialized GoogleImagenImageGenerator with base URL: </span><span style=\"color: #000080; text-decoration-color: #000080; text-decoration: underline\">https://api.a4f.co/v1</span>\n",
       "</pre>\n"
      ],
      "text/plain": [
       "\u001b[34m🐛 Initialized GoogleImagenImageGenerator with base URL: \u001b[0m\u001b[4;34mhttps://api.a4f.co/v1\u001b[0m\n"
      ]
     },
     "metadata": {},
     "output_type": "display_data"
    },
    {
     "data": {
      "text/html": [
       "<pre style=\"white-space:pre;overflow-x:auto;line-height:normal;font-family:Menlo,'DejaVu Sans Mono',consolas,'Courier New',monospace\"><span style=\"color: #000080; text-decoration-color: #000080\">🐛 Initialized GoogleImagenImageGenerator</span>\n",
       "</pre>\n"
      ],
      "text/plain": [
       "\u001b[34m🐛 Initialized GoogleImagenImageGenerator\u001b[0m\n"
      ]
     },
     "metadata": {},
     "output_type": "display_data"
    },
    {
     "data": {
      "text/html": [
       "<pre style=\"white-space:pre;overflow-x:auto;line-height:normal;font-family:Menlo,'DejaVu Sans Mono',consolas,'Courier New',monospace\"><span style=\"color: #008080; text-decoration-color: #008080\">ℹ️ Starting image generation and save process</span>\n",
       "</pre>\n"
      ],
      "text/plain": [
       "\u001b[36mℹ️ Starting image generation and save process\u001b[0m\n"
      ]
     },
     "metadata": {},
     "output_type": "display_data"
    },
    {
     "data": {
      "text/html": [
       "<pre style=\"white-space:pre;overflow-x:auto;line-height:normal;font-family:Menlo,'DejaVu Sans Mono',consolas,'Courier New',monospace\"><span style=\"color: #000080; text-decoration-color: #000080\">🐛 Prompt: Bugs Bunny and Donald Duck shaking hands. Photorealistic, highly detailed</span>\n",
       "</pre>\n"
      ],
      "text/plain": [
       "\u001b[34m🐛 Prompt: Bugs Bunny and Donald Duck shaking hands. Photorealistic, highly detailed\u001b[0m\n"
      ]
     },
     "metadata": {},
     "output_type": "display_data"
    },
    {
     "data": {
      "text/html": [
       "<pre style=\"white-space:pre;overflow-x:auto;line-height:normal;font-family:Menlo,'DejaVu Sans Mono',consolas,'Courier New',monospace\"><span style=\"color: #000080; text-decoration-color: #000080\">🐛 Additional kwargs: </span><span style=\"color: #000080; text-decoration-color: #000080; font-weight: bold\">{</span><span style=\"color: #000080; text-decoration-color: #000080\">'model'</span><span style=\"color: #000080; text-decoration-color: #000080\">: </span><span style=\"color: #000080; text-decoration-color: #000080\">'provider-4/imagen-3'</span><span style=\"color: #000080; text-decoration-color: #000080\">, </span><span style=\"color: #000080; text-decoration-color: #000080\">'width'</span><span style=\"color: #000080; text-decoration-color: #000080\">: </span><span style=\"color: #000080; text-decoration-color: #000080; font-weight: bold\">1024</span><span style=\"color: #000080; text-decoration-color: #000080\">, </span><span style=\"color: #000080; text-decoration-color: #000080\">'height'</span><span style=\"color: #000080; text-decoration-color: #000080\">: </span><span style=\"color: #000080; text-decoration-color: #000080; font-weight: bold\">1024</span><span style=\"color: #000080; text-decoration-color: #000080\">, </span><span style=\"color: #000080; text-decoration-color: #000080\">'steps'</span><span style=\"color: #000080; text-decoration-color: #000080\">: </span><span style=\"color: #000080; text-decoration-color: #000080; font-weight: bold\">30</span><span style=\"color: #000080; text-decoration-color: #000080\">, </span>\n",
       "<span style=\"color: #000080; text-decoration-color: #000080\">'guidance_scale'</span><span style=\"color: #000080; text-decoration-color: #000080\">: </span><span style=\"color: #000080; text-decoration-color: #000080; font-weight: bold\">7.5</span><span style=\"color: #000080; text-decoration-color: #000080\">, </span><span style=\"color: #000080; text-decoration-color: #000080\">'seed'</span><span style=\"color: #000080; text-decoration-color: #000080\">: </span><span style=\"color: #000080; text-decoration-color: #000080; font-weight: bold\">42</span><span style=\"color: #000080; text-decoration-color: #000080; font-weight: bold\">}</span>\n",
       "</pre>\n"
      ],
      "text/plain": [
       "\u001b[34m🐛 Additional kwargs: \u001b[0m\u001b[1;34m{\u001b[0m\u001b[34m'model'\u001b[0m\u001b[34m: \u001b[0m\u001b[34m'provider-4/imagen-3'\u001b[0m\u001b[34m, \u001b[0m\u001b[34m'width'\u001b[0m\u001b[34m: \u001b[0m\u001b[1;34m1024\u001b[0m\u001b[34m, \u001b[0m\u001b[34m'height'\u001b[0m\u001b[34m: \u001b[0m\u001b[1;34m1024\u001b[0m\u001b[34m, \u001b[0m\u001b[34m'steps'\u001b[0m\u001b[34m: \u001b[0m\u001b[1;34m30\u001b[0m\u001b[34m, \u001b[0m\n",
       "\u001b[34m'guidance_scale'\u001b[0m\u001b[34m: \u001b[0m\u001b[1;34m7.5\u001b[0m\u001b[34m, \u001b[0m\u001b[34m'seed'\u001b[0m\u001b[34m: \u001b[0m\u001b[1;34m42\u001b[0m\u001b[1;34m}\u001b[0m\n"
      ]
     },
     "metadata": {},
     "output_type": "display_data"
    },
    {
     "data": {
      "text/html": [
       "<pre style=\"white-space:pre;overflow-x:auto;line-height:normal;font-family:Menlo,'DejaVu Sans Mono',consolas,'Courier New',monospace\"><span style=\"color: #008080; text-decoration-color: #008080\">ℹ️ Generating image with model: provider-</span><span style=\"color: #008080; text-decoration-color: #008080; font-weight: bold\">4</span><span style=\"color: #008080; text-decoration-color: #008080\">/imagen-</span><span style=\"color: #008080; text-decoration-color: #008080; font-weight: bold\">3</span>\n",
       "</pre>\n"
      ],
      "text/plain": [
       "\u001b[36mℹ️ Generating image with model: provider-\u001b[0m\u001b[1;36m4\u001b[0m\u001b[36m/imagen-\u001b[0m\u001b[1;36m3\u001b[0m\n"
      ]
     },
     "metadata": {},
     "output_type": "display_data"
    },
    {
     "data": {
      "text/html": [
       "<pre style=\"white-space:pre;overflow-x:auto;line-height:normal;font-family:Menlo,'DejaVu Sans Mono',consolas,'Courier New',monospace\"><span style=\"color: #000080; text-decoration-color: #000080\">🐛 Prompt: Bugs Bunny and Donald Duck shaking hands. Photorealistic, highly detailed</span>\n",
       "</pre>\n"
      ],
      "text/plain": [
       "\u001b[34m🐛 Prompt: Bugs Bunny and Donald Duck shaking hands. Photorealistic, highly detailed\u001b[0m\n"
      ]
     },
     "metadata": {},
     "output_type": "display_data"
    },
    {
     "data": {
      "text/html": [
       "<pre style=\"white-space:pre;overflow-x:auto;line-height:normal;font-family:Menlo,'DejaVu Sans Mono',consolas,'Courier New',monospace\"><span style=\"color: #000080; text-decoration-color: #000080\">🐛 Dimensions: 1024x1024, Steps: </span><span style=\"color: #000080; text-decoration-color: #000080; font-weight: bold\">30</span><span style=\"color: #000080; text-decoration-color: #000080\">, Guidance: </span><span style=\"color: #000080; text-decoration-color: #000080; font-weight: bold\">7.5</span>\n",
       "</pre>\n"
      ],
      "text/plain": [
       "\u001b[34m🐛 Dimensions: 1024x1024, Steps: \u001b[0m\u001b[1;34m30\u001b[0m\u001b[34m, Guidance: \u001b[0m\u001b[1;34m7.5\u001b[0m\n"
      ]
     },
     "metadata": {},
     "output_type": "display_data"
    },
    {
     "data": {
      "text/html": [
       "<pre style=\"white-space:pre;overflow-x:auto;line-height:normal;font-family:Menlo,'DejaVu Sans Mono',consolas,'Courier New',monospace\"><span style=\"color: #000080; text-decoration-color: #000080\">🐛 Using fixed seed: </span><span style=\"color: #000080; text-decoration-color: #000080; font-weight: bold\">42</span>\n",
       "</pre>\n"
      ],
      "text/plain": [
       "\u001b[34m🐛 Using fixed seed: \u001b[0m\u001b[1;34m42\u001b[0m\n"
      ]
     },
     "metadata": {},
     "output_type": "display_data"
    },
    {
     "data": {
      "text/html": [
       "<pre style=\"white-space:pre;overflow-x:auto;line-height:normal;font-family:Menlo,'DejaVu Sans Mono',consolas,'Courier New',monospace\"><span style=\"color: #00ff00; text-decoration-color: #00ff00\">───────────────────────────────────────────────── </span>💬 Conversation<span style=\"color: #00ff00; text-decoration-color: #00ff00\"> ─────────────────────────────────────────────────</span>\n",
       "</pre>\n"
      ],
      "text/plain": [
       "\u001b[92m───────────────────────────────────────────────── \u001b[0m💬 Conversation\u001b[92m ─────────────────────────────────────────────────\u001b[0m\n"
      ]
     },
     "metadata": {},
     "output_type": "display_data"
    },
    {
     "data": {
      "text/html": [
       "<pre style=\"white-space:pre;overflow-x:auto;line-height:normal;font-family:Menlo,'DejaVu Sans Mono',consolas,'Courier New',monospace\"><span style=\"color: #800080; text-decoration-color: #800080\">👤 User:</span> Bugs Bunny and Donald Duck shaking hands. Photorealistic, highly detailed\n",
       "</pre>\n"
      ],
      "text/plain": [
       "\u001b[35m👤 User:\u001b[0m Bugs Bunny and Donald Duck shaking hands. Photorealistic, highly detailed\n"
      ]
     },
     "metadata": {},
     "output_type": "display_data"
    },
    {
     "data": {
      "text/html": [
       "<pre style=\"white-space:pre;overflow-x:auto;line-height:normal;font-family:Menlo,'DejaVu Sans Mono',consolas,'Courier New',monospace\"><span style=\"color: #008000; text-decoration-color: #008000\">🤖 Assistant:</span> <span style=\"font-weight: bold\">{</span><span style=\"color: #008000; text-decoration-color: #008000\">'model'</span>: <span style=\"color: #008000; text-decoration-color: #008000\">'provider-4/imagen-3'</span>, <span style=\"color: #008000; text-decoration-color: #008000\">'width'</span>: <span style=\"color: #008080; text-decoration-color: #008080; font-weight: bold\">1024</span>, <span style=\"color: #008000; text-decoration-color: #008000\">'height'</span>: <span style=\"color: #008080; text-decoration-color: #008080; font-weight: bold\">1024</span>, <span style=\"color: #008000; text-decoration-color: #008000\">'steps'</span>: <span style=\"color: #008080; text-decoration-color: #008080; font-weight: bold\">30</span>, <span style=\"color: #008000; text-decoration-color: #008000\">'guidance_scale'</span>: <span style=\"color: #008080; text-decoration-color: #008080; font-weight: bold\">7.5</span>, \n",
       "<span style=\"color: #008000; text-decoration-color: #008000\">'output_format'</span>: <span style=\"color: #008000; text-decoration-color: #008000\">'png'</span>, <span style=\"color: #008000; text-decoration-color: #008000\">'has_seed'</span>: <span style=\"color: #00ff00; text-decoration-color: #00ff00; font-style: italic\">True</span>, <span style=\"color: #008000; text-decoration-color: #008000\">'has_negative_prompt'</span>: <span style=\"color: #ff0000; text-decoration-color: #ff0000; font-style: italic\">False</span><span style=\"font-weight: bold\">}</span>\n",
       "</pre>\n"
      ],
      "text/plain": [
       "\u001b[32m🤖 Assistant:\u001b[0m \u001b[1m{\u001b[0m\u001b[32m'model'\u001b[0m: \u001b[32m'provider-4/imagen-3'\u001b[0m, \u001b[32m'width'\u001b[0m: \u001b[1;36m1024\u001b[0m, \u001b[32m'height'\u001b[0m: \u001b[1;36m1024\u001b[0m, \u001b[32m'steps'\u001b[0m: \u001b[1;36m30\u001b[0m, \u001b[32m'guidance_scale'\u001b[0m: \u001b[1;36m7.5\u001b[0m, \n",
       "\u001b[32m'output_format'\u001b[0m: \u001b[32m'png'\u001b[0m, \u001b[32m'has_seed'\u001b[0m: \u001b[3;92mTrue\u001b[0m, \u001b[32m'has_negative_prompt'\u001b[0m: \u001b[3;91mFalse\u001b[0m\u001b[1m}\u001b[0m\n"
      ]
     },
     "metadata": {},
     "output_type": "display_data"
    },
    {
     "data": {
      "text/html": [
       "<pre style=\"white-space:pre;overflow-x:auto;line-height:normal;font-family:Menlo,'DejaVu Sans Mono',consolas,'Courier New',monospace\"><span style=\"color: #008080; text-decoration-color: #008080\">ℹ️ Sending request to Google Imagen API...</span>\n",
       "</pre>\n"
      ],
      "text/plain": [
       "\u001b[36mℹ️ Sending request to Google Imagen API\u001b[0m\u001b[36m...\u001b[0m\n"
      ]
     },
     "metadata": {},
     "output_type": "display_data"
    },
    {
     "data": {
      "text/html": [
       "<pre style=\"white-space:pre;overflow-x:auto;line-height:normal;font-family:Menlo,'DejaVu Sans Mono',consolas,'Courier New',monospace\"><span style=\"color: #008000; text-decoration-color: #008000\">✅ Successfully received response from Google Imagen API</span>\n",
       "</pre>\n"
      ],
      "text/plain": [
       "\u001b[32m✅ Successfully received response from Google Imagen API\u001b[0m\n"
      ]
     },
     "metadata": {},
     "output_type": "display_data"
    },
    {
     "data": {
      "text/html": [
       "<pre style=\"white-space:pre;overflow-x:auto;line-height:normal;font-family:Menlo,'DejaVu Sans Mono',consolas,'Courier New',monospace\"><span style=\"color: #000080; text-decoration-color: #000080\">🐛 API response time: </span><span style=\"color: #000080; text-decoration-color: #000080; font-weight: bold\">15.84</span><span style=\"color: #000080; text-decoration-color: #000080\"> seconds</span>\n",
       "</pre>\n"
      ],
      "text/plain": [
       "\u001b[34m🐛 API response time: \u001b[0m\u001b[1;34m15.84\u001b[0m\u001b[34m seconds\u001b[0m\n"
      ]
     },
     "metadata": {},
     "output_type": "display_data"
    },
    {
     "data": {
      "text/html": [
       "<pre style=\"white-space:pre;overflow-x:auto;line-height:normal;font-family:Menlo,'DejaVu Sans Mono',consolas,'Courier New',monospace\"><span style=\"color: #008080; text-decoration-color: #008080\">ℹ️ Saving image from API response</span>\n",
       "</pre>\n"
      ],
      "text/plain": [
       "\u001b[36mℹ️ Saving image from API response\u001b[0m\n"
      ]
     },
     "metadata": {},
     "output_type": "display_data"
    },
    {
     "data": {
      "text/html": [
       "<pre style=\"white-space:pre;overflow-x:auto;line-height:normal;font-family:Menlo,'DejaVu Sans Mono',consolas,'Courier New',monospace\"><span style=\"color: #000080; text-decoration-color: #000080\">🐛 Output directory: /home/zeoxd/Documents/zeos_sarcastic_cat_uv/images/generated_images</span>\n",
       "</pre>\n"
      ],
      "text/plain": [
       "\u001b[34m🐛 Output directory: \u001b[0m\u001b[34m/home/zeoxd/Documents/zeos_sarcastic_cat_uv/images/\u001b[0m\u001b[34mgenerated_images\u001b[0m\n"
      ]
     },
     "metadata": {},
     "output_type": "display_data"
    },
    {
     "data": {
      "text/html": [
       "<pre style=\"white-space:pre;overflow-x:auto;line-height:normal;font-family:Menlo,'DejaVu Sans Mono',consolas,'Courier New',monospace\"><span style=\"color: #000080; text-decoration-color: #000080\">🐛 Downloading image from URL: </span><span style=\"color: #000080; text-decoration-color: #000080; text-decoration: underline\">https://api.a4f.co/v1/images/serve/7d1c5744c43d4707a227178e2f8aa3d0</span>\n",
       "</pre>\n"
      ],
      "text/plain": [
       "\u001b[34m🐛 Downloading image from URL: \u001b[0m\u001b[4;34mhttps://api.a4f.co/v1/images/serve/7d1c5744c43d4707a227178e2f8aa3d0\u001b[0m\n"
      ]
     },
     "metadata": {},
     "output_type": "display_data"
    },
    {
     "data": {
      "text/html": [
       "<pre style=\"white-space:pre;overflow-x:auto;line-height:normal;font-family:Menlo,'DejaVu Sans Mono',consolas,'Courier New',monospace\"><span style=\"color: #008000; text-decoration-color: #008000\">✅ Downloaded and saved image to: images/generated_images/google_imagen_image_20250711_155314.png</span>\n",
       "</pre>\n"
      ],
      "text/plain": [
       "\u001b[32m✅ Downloaded and saved image to: images/generated_images/google_imagen_image_20250711_155314.png\u001b[0m\n"
      ]
     },
     "metadata": {},
     "output_type": "display_data"
    },
    {
     "data": {
      "text/html": [
       "<pre style=\"white-space:pre;overflow-x:auto;line-height:normal;font-family:Menlo,'DejaVu Sans Mono',consolas,'Courier New',monospace\"><span style=\"color: #000080; text-decoration-color: #000080\">🐛 File size: </span><span style=\"color: #000080; text-decoration-color: #000080; font-weight: bold\">1569.40</span><span style=\"color: #000080; text-decoration-color: #000080\"> KB</span>\n",
       "</pre>\n"
      ],
      "text/plain": [
       "\u001b[34m🐛 File size: \u001b[0m\u001b[1;34m1569.40\u001b[0m\u001b[34m KB\u001b[0m\n"
      ]
     },
     "metadata": {},
     "output_type": "display_data"
    },
    {
     "data": {
      "text/html": [
       "<pre style=\"white-space:pre;overflow-x:auto;line-height:normal;font-family:Menlo,'DejaVu Sans Mono',consolas,'Courier New',monospace\"><span style=\"color: #000080; text-decoration-color: #000080\">🐛 No revised prompt in response, using default</span>\n",
       "</pre>\n"
      ],
      "text/plain": [
       "\u001b[34m🐛 No revised prompt in response, using default\u001b[0m\n"
      ]
     },
     "metadata": {},
     "output_type": "display_data"
    },
    {
     "data": {
      "text/html": [
       "<pre style=\"white-space:pre;overflow-x:auto;line-height:normal;font-family:Menlo,'DejaVu Sans Mono',consolas,'Courier New',monospace\"><span style=\"color: #008000; text-decoration-color: #008000\">✅ Image generation and save completed in </span><span style=\"color: #008000; text-decoration-color: #008000; font-weight: bold\">19.33</span><span style=\"color: #008000; text-decoration-color: #008000\"> seconds</span>\n",
       "</pre>\n"
      ],
      "text/plain": [
       "\u001b[32m✅ Image generation and save completed in \u001b[0m\u001b[1;32m19.33\u001b[0m\u001b[32m seconds\u001b[0m\n"
      ]
     },
     "metadata": {},
     "output_type": "display_data"
    },
    {
     "data": {
      "text/html": [
       "<pre style=\"white-space:pre;overflow-x:auto;line-height:normal;font-family:Menlo,'DejaVu Sans Mono',consolas,'Courier New',monospace\"><span style=\"color: #008080; text-decoration-color: #008080\">ℹ️ Image saved to: images/generated_images/google_imagen_image_20250711_155314.png</span>\n",
       "</pre>\n"
      ],
      "text/plain": [
       "\u001b[36mℹ️ Image saved to: images/generated_images/google_imagen_image_20250711_155314.png\u001b[0m\n"
      ]
     },
     "metadata": {},
     "output_type": "display_data"
    },
    {
     "data": {
      "text/html": [
       "<pre style=\"white-space:pre;overflow-x:auto;line-height:normal;font-family:Menlo,'DejaVu Sans Mono',consolas,'Courier New',monospace\"><span style=\"color: #008000; text-decoration-color: #008000\">✅ Image generation completed successfully</span>\n",
       "</pre>\n"
      ],
      "text/plain": [
       "\u001b[32m✅ Image generation completed successfully\u001b[0m\n"
      ]
     },
     "metadata": {},
     "output_type": "display_data"
    },
    {
     "data": {
      "text/html": [
       "<pre style=\"white-space:pre;overflow-x:auto;line-height:normal;font-family:Menlo,'DejaVu Sans Mono',consolas,'Courier New',monospace\"><span style=\"color: #008080; text-decoration-color: #008080\">ℹ️ Image saved to: images/generated_images/google_imagen_image_20250711_155314.png</span>\n",
       "</pre>\n"
      ],
      "text/plain": [
       "\u001b[36mℹ️ Image saved to: images/generated_images/google_imagen_image_20250711_155314.png\u001b[0m\n"
      ]
     },
     "metadata": {},
     "output_type": "display_data"
    },
    {
     "data": {
      "text/html": [
       "<pre style=\"white-space:pre;overflow-x:auto;line-height:normal;font-family:Menlo,'DejaVu Sans Mono',consolas,'Courier New',monospace\"><span style=\"color: #000080; text-decoration-color: #000080\">🐛 AI response: Generated image successfully for prompt: Bugs Bunny and Donald Duck shaking hands. Photorealistic, </span>\n",
       "<span style=\"color: #000080; text-decoration-color: #000080\">highly detailed</span>\n",
       "</pre>\n"
      ],
      "text/plain": [
       "\u001b[34m🐛 AI response: Generated image successfully for prompt: Bugs Bunny and Donald Duck shaking hands. Photorealistic, \u001b[0m\n",
       "\u001b[34mhighly detailed\u001b[0m\n"
      ]
     },
     "metadata": {},
     "output_type": "display_data"
    },
    {
     "name": "stdout",
     "output_type": "stream",
     "text": [
      "\n",
      "Filepath: images/generated_images/google_imagen_image_20250711_155314.png\n"
     ]
    }
   ],
   "source": [
    "from llms.google_imagen_image_gen import google_imagen_image_generator\n",
    "\n",
    "ai_response, filepath = google_imagen_image_generator(\"Bugs Bunny and Donald Duck shaking hands. Photorealistic, highly detailed\")\n",
    "\n",
    "print(f\"\\nFilepath: {filepath}\")"
   ]
  }
 ],
 "metadata": {
  "kernelspec": {
   "display_name": "zeos_sarcastic_cat_uv",
   "language": "python",
   "name": "python3"
  },
  "language_info": {
   "codemirror_mode": {
    "name": "ipython",
    "version": 3
   },
   "file_extension": ".py",
   "mimetype": "text/x-python",
   "name": "python",
   "nbconvert_exporter": "python",
   "pygments_lexer": "ipython3",
   "version": "3.12.7"
  }
 },
 "nbformat": 4,
 "nbformat_minor": 5
}
