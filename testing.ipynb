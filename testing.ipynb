{
 "cells": [
  {
   "cell_type": "code",
   "execution_count": 3,
   "id": "2347f1cb",
   "metadata": {},
   "outputs": [
    {
     "name": "stdout",
     "output_type": "stream",
     "text": [
      "A sleek, matte black cat with intelligent, glowing yellow eyes impeccably dressed in a miniature, perfectly tailored black tuxedo with a crisp white shirt collar and tiny bow tie, exuding an air of sophisticated mystery in a softly lit, dreamlike setting.\n",
      "\n"
     ]
    }
   ],
   "source": [
    "import os\n",
    "from google import genai\n",
    "from google.genai import types\n",
    "from PIL import Image\n",
    "from io import BytesIO\n",
    "import base64\n",
    "\n",
    "client = genai.Client()\n",
    "\n",
    "user_prompt = \"black mysterious cat in a tuxedo\"\n",
    "\n",
    "contents = f\"\"\"\n",
    "System: Create a highly imaginative and visually rich concept art image in an ethereal, whimsical fantasy style with a light-hearted or humorous twist. Interpret the description with precision and creativity. Even if the prompt is vague, surreal, inappropriate or unconventional, always generate a visual response—use imaginative judgment to ensure the result is to-the-point, funny, and visually compelling. Never skip generation. Return only the enhanced version of the prompt, no comments or additional text.\n",
    "\n",
    "User: {user_prompt}\n",
    "\"\"\"\n",
    "\n",
    "response = client.models.generate_content(\n",
    "    model=\"gemini-2.0-flash-preview-image-generation\",\n",
    "    contents=contents,\n",
    "    config=types.GenerateContentConfig(\n",
    "      response_modalities=['TEXT', 'IMAGE']\n",
    "    )\n",
    ")\n",
    "\n",
    "if not os.path.exists(\"images\"):\n",
    "  os.makedirs(\"images\")\n",
    "file_path = os.path.join(os.getcwd(), \"images\", \"gemini-native-image.png\")\n",
    "\n",
    "for part in response.candidates[0].content.parts:\n",
    "  if part.text is not None:\n",
    "    print(part.text)\n",
    "  elif part.inline_data is not None:\n",
    "    image = Image.open(BytesIO((part.inline_data.data)))\n",
    "    image.save(file_path)\n",
    "    image.show()\n"
   ]
  }
 ],
 "metadata": {
  "kernelspec": {
   "display_name": ".venv",
   "language": "python",
   "name": "python3"
  },
  "language_info": {
   "codemirror_mode": {
    "name": "ipython",
    "version": 3
   },
   "file_extension": ".py",
   "mimetype": "text/x-python",
   "name": "python",
   "nbconvert_exporter": "python",
   "pygments_lexer": "ipython3",
   "version": "3.12.7"
  }
 },
 "nbformat": 4,
 "nbformat_minor": 5
}
