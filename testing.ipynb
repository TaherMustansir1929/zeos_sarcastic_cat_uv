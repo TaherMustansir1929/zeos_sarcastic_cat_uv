{
 "cells": [
  {
   "cell_type": "code",
   "execution_count": null,
   "id": "d13545ff",
   "metadata": {},
   "outputs": [],
   "source": [
    "model=\"provider-1/black-forest-labs/FLUX.1-kontext-pro\""
   ]
  }
 ],
 "metadata": {
  "kernelspec": {
   "display_name": ".venv",
   "language": "python",
   "name": "python3"
  },
  "language_info": {
   "codemirror_mode": {
    "name": "ipython",
    "version": 3
   },
   "file_extension": ".py",
   "mimetype": "text/x-python",
   "name": "python",
   "nbconvert_exporter": "python",
   "pygments_lexer": "ipython3",
   "version": "3.12.7"
  }
 },
 "nbformat": 4,
 "nbformat_minor": 5
}
